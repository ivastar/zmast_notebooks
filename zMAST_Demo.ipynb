{
 "cells": [
  {
   "cell_type": "code",
   "execution_count": null,
   "metadata": {},
   "outputs": [],
   "source": [
    "import os,sys\n",
    "\n",
    "import requests\n",
    "from urllib.parse import quote_plus\n",
    "\n",
    "from IPython.display import display, HTML\n",
    "import matplotlib.pyplot as plt\n",
    "\n",
    "from astropy.io import fits\n",
    "from astropy.visualization import make_lupton_rgb"
   ]
  },
  {
   "cell_type": "markdown",
   "metadata": {},
   "source": [
    "Object Search\n",
    "----------------\n",
    "\n",
    "This example shows how to look up the data for a single object where we know the name of the target, in this case CANDELS_GDS_F160W_J033222.31-275716.3."
   ]
  },
  {
   "cell_type": "code",
   "execution_count": null,
   "metadata": {},
   "outputs": [],
   "source": [
    "#target = 'CANDELS_GDS_F160W_J033222.31-275716.3'\n",
    "target = quote_plus('CANDELS_GDN_J123615.6+621158.3')\n",
    "url = f'https://z.mast.stsci.edu/api/v0.1/object_lookup/candels?name={target}'\n",
    "\n",
    "r = requests.get(url)\n",
    "\n",
    "r.json()"
   ]
  },
  {
   "cell_type": "code",
   "execution_count": null,
   "metadata": {},
   "outputs": [],
   "source": [
    "F\"The coordinates of {target} are RA={r.json()['data'][0]['ra']} and Dec={r.json()['data'][0]['dec']}.\""
   ]
  },
  {
   "cell_type": "markdown",
   "metadata": {},
   "source": [
    "Next, lets get the SED plot and the image cutouts for this galaxy."
   ]
  },
  {
   "cell_type": "code",
   "execution_count": null,
   "metadata": {
    "scrolled": false
   },
   "outputs": [],
   "source": [
    "url_sed = f'https://z.mast.stsci.edu/api/v0.1/sed/candels/plot/?name={target}'\n",
    "sed = requests.get(url_sed)\n",
    "display(HTML(str(sed.content.decode('utf-8'))))"
   ]
  },
  {
   "cell_type": "code",
   "execution_count": null,
   "metadata": {
    "scrolled": true
   },
   "outputs": [],
   "source": [
    "url_astrocut = f\"https://mast.stsci.edu/zcut/api/v0.1/astrocut?ra={r.json()['data'][0]['ra']}&dec={r.json()['data'][0]['dec']}&x=100&y=100&units=px\"\n",
    "os.system('curl -o test1.zip \"{}\"'.format(url_astrocut))\n",
    "os.system('unzip -o test1.zip')\n",
    "print(url_astrocut)"
   ]
  },
  {
   "cell_type": "code",
   "execution_count": null,
   "metadata": {},
   "outputs": [],
   "source": [
    "ls -ltr *189.06*"
   ]
  },
  {
   "cell_type": "code",
   "execution_count": null,
   "metadata": {},
   "outputs": [],
   "source": [
    "foo = fits.open('candels_gn_60mas_189.065190_62.199528_100.0pix-x-100.0pix_astrocut.fits')"
   ]
  },
  {
   "cell_type": "code",
   "execution_count": null,
   "metadata": {},
   "outputs": [],
   "source": [
    "foo.info()"
   ]
  },
  {
   "cell_type": "code",
   "execution_count": null,
   "metadata": {},
   "outputs": [],
   "source": [
    "foo[6].header['ORIG_FLE']"
   ]
  },
  {
   "cell_type": "code",
   "execution_count": null,
   "metadata": {
    "scrolled": true
   },
   "outputs": [],
   "source": [
    "plt.imshow(foo[1].data, vmin=0.0, vmax=0.01)"
   ]
  },
  {
   "cell_type": "code",
   "execution_count": null,
   "metadata": {},
   "outputs": [],
   "source": [
    "rgb = make_lupton_rgb(foo[3].data, foo[6].data,foo[5].data, stretch=0.05, Q=5)\n",
    "plt.imshow(rgb, vmin=0.0, vmax=0.001)"
   ]
  },
  {
   "cell_type": "markdown",
   "metadata": {},
   "source": [
    "REQUESTS METHOD"
   ]
  },
  {
   "cell_type": "code",
   "execution_count": null,
   "metadata": {},
   "outputs": [],
   "source": [
    "#url = 'https://mast.stsci.edu/zcut/api/v0.1/astrocut?ra=215.36067&dec=53.09557&x=5&y=7&units=s&format=jpg'\n",
    "#r = requests.get(url, allow_redirects=True)\n",
    "#open('test2.zip', 'wb').write(r.content)\n",
    "#os.system('unzip test2.zip')"
   ]
  },
  {
   "cell_type": "code",
   "execution_count": null,
   "metadata": {
    "scrolled": true
   },
   "outputs": [],
   "source": [
    "#url_astrocut"
   ]
  },
  {
   "cell_type": "code",
   "execution_count": null,
   "metadata": {},
   "outputs": [],
   "source": [
    "#r = requests.get('https://mast.stsci.edu/zcut/api/v0.1/survey?ra=53.09299&dec=-27.9545383')\n",
    "#r.content\n",
    "#display(HTML(str(r.content.decode('utf-8'))))"
   ]
  }
 ],
 "metadata": {
  "kernelspec": {
   "display_name": "Python 3",
   "language": "python",
   "name": "python3"
  },
  "language_info": {
   "codemirror_mode": {
    "name": "ipython",
    "version": 3
   },
   "file_extension": ".py",
   "mimetype": "text/x-python",
   "name": "python",
   "nbconvert_exporter": "python",
   "pygments_lexer": "ipython3",
   "version": "3.6.9"
  }
 },
 "nbformat": 4,
 "nbformat_minor": 2
}
