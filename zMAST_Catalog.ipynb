{
 "cells": [
  {
   "cell_type": "code",
   "execution_count": null,
   "metadata": {},
   "outputs": [],
   "source": [
    "import requests\n",
    "from urllib.parse import quote_plus\n",
    "\n",
    "import pandas"
   ]
  },
  {
   "cell_type": "code",
   "execution_count": null,
   "metadata": {},
   "outputs": [],
   "source": [
    "import bokeh\n",
    "from bokeh.plotting import figure, show\n",
    "from bokeh.io import output_notebook\n",
    "from bokeh.models import ColumnDataSource, BooleanFilter, CDSView, tools"
   ]
  },
  {
   "cell_type": "code",
   "execution_count": null,
   "metadata": {},
   "outputs": [],
   "source": [
    "output_notebook()"
   ]
  },
  {
   "cell_type": "code",
   "execution_count": null,
   "metadata": {},
   "outputs": [],
   "source": [
    "z_min = 1.\n",
    "z_max = 2.\n",
    "lmass_max = 10.\n",
    "url_search = 'http://z.mast.stsci.edu/api/v0.1/candels?catalog=candels_master_view&zphot.gt={}&zphot.lt={}&lmass.gt={}'.format(z_min, z_max, lmass_max)\n",
    "r = requests.get(url_search)"
   ]
  },
  {
   "cell_type": "code",
   "execution_count": null,
   "metadata": {},
   "outputs": [],
   "source": [
    "colnames = []\n",
    "for col in r.json()['info']:\n",
    "    colnames.append(col['name'])\n",
    "\n",
    "json_data = r.json()['data']\n",
    "df = pandas.DataFrame(json_data, columns = colnames)"
   ]
  },
  {
   "cell_type": "code",
   "execution_count": null,
   "metadata": {},
   "outputs": [],
   "source": [
    "df"
   ]
  },
  {
   "cell_type": "code",
   "execution_count": null,
   "metadata": {},
   "outputs": [],
   "source": [
    "print(colnames)"
   ]
  },
  {
   "cell_type": "code",
   "execution_count": null,
   "metadata": {},
   "outputs": [],
   "source": [
    "gal = (df['Class_star'] < 0.1) & (df['PhotFlag']==0)\n",
    "\n",
    "source = ColumnDataSource(df)\n",
    "view = CDSView(source=source, filters=[BooleanFilter(gal)])\n",
    "\n",
    "p = figure(\n",
    "    toolbar_location=\"above\",\n",
    "    title='Mass-Redshift Plot',\n",
    "    x_range=(0.5,2.5),\n",
    "    y_range=(9.75,13.5))\n",
    "\n",
    "p.xaxis.axis_label = r'z_{phot}'\n",
    "p.yaxis.axis_label = r'log_{10}\\,M_{\\odot}'\n",
    "\n",
    "hover = tools.HoverTool()\n",
    "hover.tooltips=[(\"ID\", \"@IAU_Name\")]\n",
    "p.add_tools(hover)\n",
    "\n",
    "\n",
    "\n",
    "p.circle('zphot', 'lmass', size=5, source=source, color='gray', hover_color=\"red\", alpha=0.1)\n",
    "p.circle('zphot', 'lmass', size=5, source=source, view=view, color='lightskyblue', hover_color=\"red\")\n",
    "\n",
    "show(p)"
   ]
  },
  {
   "cell_type": "code",
   "execution_count": null,
   "metadata": {
    "scrolled": false
   },
   "outputs": [],
   "source": [
    "df['PhotFlag'].describe()"
   ]
  },
  {
   "cell_type": "code",
   "execution_count": null,
   "metadata": {},
   "outputs": [],
   "source": [
    "## Need to loop trough catalog to get other data!\n",
    "url_search = F'http://z.mast.stsci.edu/api/v0.1/candels?catalog=candels_photometry_view&ra={df[\"RA\"][0]}&dec={df[\"DEC\"][0]}&radius=0.0001'\n",
    "r = requests.get(url_search)\n",
    "colnames = []\n",
    "for col in r.json()['info']:\n",
    "    colnames.append(col['name'])\n",
    "\n",
    "json_data = r.json()['data']\n",
    "df_phot = pandas.DataFrame(json_data, columns = colnames)\n",
    "\n",
    "for index, row in df[1:].iterrows():\n",
    "    if row['IAU_Name'].startswith('CANDELS_GDS'):\n",
    "        url_search = F'http://z.mast.stsci.edu/api/v0.1/candels?catalog=candels_photometry_view&ra={row[\"RA\"]}&dec={row[\"DEC\"]}&radius=0.0001'\n",
    "        r = requests.get(url_search)\n",
    "        json_data = r.json()['data']\n",
    "        df_tmp = pandas.DataFrame(json_data, columns = colnames)\n",
    "        df_phot = df_id.append(df_tmp, ignore_index=True)"
   ]
  },
  {
   "cell_type": "code",
   "execution_count": null,
   "metadata": {},
   "outputs": [],
   "source": [
    "df_phot"
   ]
  },
  {
   "cell_type": "code",
   "execution_count": null,
   "metadata": {},
   "outputs": [],
   "source": []
  }
 ],
 "metadata": {
  "kernelspec": {
   "display_name": "Python 3",
   "language": "python",
   "name": "python3"
  },
  "language_info": {
   "codemirror_mode": {
    "name": "ipython",
    "version": 3
   },
   "file_extension": ".py",
   "mimetype": "text/x-python",
   "name": "python",
   "nbconvert_exporter": "python",
   "pygments_lexer": "ipython3",
   "version": "3.6.9"
  }
 },
 "nbformat": 4,
 "nbformat_minor": 2
}
